{
 "cells": [
  {
   "cell_type": "markdown",
   "metadata": {},
   "source": [
    "Lo primo es cargar las librerias necesarias para realizar el proyecto"
   ]
  },
  {
   "cell_type": "code",
   "execution_count": 15,
   "metadata": {},
   "outputs": [],
   "source": [
    "import torch\n",
    "import torch.nn as nn\n",
    "import torch.nn.functional as F\n",
    "from torchvision import datasets\n",
    "from torchvision.transforms import v2\n",
    "from torch.utils.data import DataLoader\n",
    "from torchvision.utils import make_grid\n",
    "from PIL import Image\n",
    "import numpy as np\n",
    "import matplotlib.pyplot as plt"
   ]
  },
  {
   "cell_type": "markdown",
   "metadata": {},
   "source": [
    "#### Preprocesamiento de datos\n"
   ]
  },
  {
   "cell_type": "markdown",
   "metadata": {},
   "source": [
    "El conjunto de datos tambien conocido como dataset a utilizar son los datos del MNIST\n",
    "\n",
    "Sobre los datos:\n",
    "\n",
    "Los datos MNIST son un conjunto de datos ampliamente utilizado en el campo del aprendizaje automático y la visión por computadora. MNIST es un acrónimo de \"Modified National Institute of Standards and Technology\" y se refiere a una base de datos que contiene imágenes de dígitos escritos a mano.\n",
    "\n",
    "Caracteristicas:\n",
    "\n",
    "Imágenes: La base de datos MNIST contiene un conjunto de 70,000 imágenes en blanco y negro (escala de grises) de dígitos escritos a mano. Estas imágenes son de 28x28 píxeles y muestran dígitos del 0 al 9.\n",
    "\n",
    "Etiquetas: Cada imagen en el conjunto de datos está etiquetada con el dígito que representa. Esto significa que cada imagen tiene una etiqueta que indica si es un 0, 1, 2, ..., 9."
   ]
  },
  {
   "cell_type": "markdown",
   "metadata": {},
   "source": [
    "Se descargan y cargan los datos en memoria para poder usarse, haciendo uso de un modulo que ofrece pytorch para descargar diferentes tipos de datasets"
   ]
  },
  {
   "cell_type": "code",
   "execution_count": 6,
   "metadata": {},
   "outputs": [],
   "source": [
    "# Los imagenes del dataset de MNIST se convertiran a tensores de 4 dimensiones\n",
    "# (image, alto, ancho y color)\n",
    "transform = v2.ToTensor()\n",
    "\n",
    "# Descarga de los datos de MNIST\n",
    "\n",
    "# Datos de entrenamiento\n",
    "train_data = datasets.MNIST(root=\"./data\", train=True, download=True, transform=transform)\n",
    "\n",
    "# Datos de prueba\n",
    "test_data = datasets.MNIST(root=\"./data\", train=False, download=True, transform=transform)\n"
   ]
  },
  {
   "cell_type": "markdown",
   "metadata": {},
   "source": [
    "Visualizacion de una muestra aleatoria de los datos de entrenamiento, esto se realiza utilizando la libreria matplotlib"
   ]
  },
  {
   "cell_type": "code",
   "execution_count": 7,
   "metadata": {},
   "outputs": [
    {
     "data": {
      "image/png": "[encoded data removed]",
      "text/plain": [
       "<Figure size 800x800 with 9 Axes>"
      ]
     },
     "metadata": {},
     "output_type": "display_data"
    }
   ],
   "source": [
    "# Se define la figura\n",
    "figure = plt.figure(figsize=(8, 8))\n",
    "cols, rows = 3, 3\n",
    "for i in range(1, cols * rows + 1):\n",
    "    # se genera un numero aleatorio\n",
    "    sample_idx = torch.randint(len(train_data), size=(1,)).item()\n",
    "    # Se selecciona la imagen correspondiente al indice\n",
    "    # aleatoria generado\n",
    "    img, label = train_data[sample_idx]\n",
    "    # Se grafica la imagen\n",
    "    figure.add_subplot(rows, cols, i)\n",
    "    plt.axis(\"off\")\n",
    "    plt.imshow(img.squeeze(), cmap=\"gray\")\n",
    "plt.show()"
   ]
  },
  {
   "cell_type": "markdown",
   "metadata": {},
   "source": [
    "Con el conjunto de datos ya cargados se usa la clase \"DataLoader\" para lo siguiente: \n",
    "* Creacion de lotes (division de los datos en pequenos conjuntos) esto permite realizar actualizaciones de los parámetros del modelo más frecuentemente para acelerar la convergencia del modelo, tambien los lotes pueden cargarse y preprocesarse en paralelo, lo que es util cuando se usan mutiples nucleos de la CPU ademas los lotes permite la mezcla de los ejemplos en cada epoch de entrenamiento.\n",
    "*  Mezclar aleatoriamente los datos en cada epotch del entrenamiento, para evitar que el modelo aprenda patrones espurios\n",
    "* Hacer el conjunto de datos iterable (que una sentecia como un for puede recorrer los datos)"
   ]
  },
  {
   "cell_type": "code",
   "execution_count": 26,
   "metadata": {},
   "outputs": [],
   "source": [
    "# Crear lote de datos\n",
    "train_loader = DataLoader(train_data, batch_size=10, shuffle=True)\n",
    "test_loader = DataLoader(test_data, batch_size=10, shuffle=True)"
   ]
  },
  {
   "cell_type": "markdown",
   "metadata": {},
   "source": [
    "Preprocesamiento de nuevos datos"
   ]
  },
  {
   "cell_type": "markdown",
   "metadata": {},
   "source": [
    "Para el procesamiento de nuevos datos que son externos al dataset provisto por pytorch, se tienen que realizar un proceso\n",
    "ligeramente diferente. Ya que se tiene que estandarizar los datos a ingresar a las mismas caracteristicas que tiene los datos con los que se entreno el modelo, estas son:\n",
    "* Imagen de un solo canal (canal de grises)\n",
    "* Tamano de 28x28 pixeles\n",
    "* Fonda negro, y el digito escrito en color blanco"
   ]
  },
  {
   "cell_type": "markdown",
   "metadata": {},
   "source": [
    "Primero se crea un nuevo tranformador con las siguientes funcionalidades: \n",
    "* Cambiar el tamano de la imagen ingresada (si fuese de mayor resolucion) al tamano de la imagen con la que fue entrenado el modelo 28x28 \n",
    "* Escalar la imagen a solo canal (canal de grises)\n",
    "* Invertir el color ya que las imagenes con las que se entreno el modelo tienen el fondo negro y el simbolo en blaco\n",
    "* Convertir la imagen en un Tensor, que es el tipo de dato que manejan las funciones de pytorch"
   ]
  },
  {
   "cell_type": "code",
   "execution_count": 9,
   "metadata": {},
   "outputs": [],
   "source": [
    "transform_ = v2.Compose([\n",
    "    v2.Resize((28, 28)),\n",
    "    v2.Grayscale(),\n",
    "    v2.RandomInvert(1.0),\n",
    "    v2.ToTensor()\n",
    "])"
   ]
  },
  {
   "cell_type": "markdown",
   "metadata": {},
   "source": [
    "El formato de canales de imagen que por lo general se maneja es RGBA (Red, Green, Blue, Alpha) donde el Alpha controla la transparencia y la escala de grises, esto es algo a considerar mas adelante."
   ]
  },
  {
   "cell_type": "markdown",
   "metadata": {},
   "source": [
    "Se carga una imagen para probar, esta tiene las siguientes dimensiones; 200x200 pixeles y 4 canales de color (RGBA), esta imagen viene en un archivo .txt el cual contiene un arreglo de una dimension con los datos de todos los pixeles de la imagen, por lo que primero se lee con una funcion del modulo numpy y despues se redimensiona a un formato de 200x200 pixeles y 4 canales:"
   ]
  },
  {
   "cell_type": "code",
   "execution_count": 12,
   "metadata": {},
   "outputs": [
    {
     "data": {
      "text/plain": [
       "(160000,)"
      ]
     },
     "execution_count": 12,
     "metadata": {},
     "output_type": "execute_result"
    }
   ],
   "source": [
    "# Cargar arreglo (imagen)\n",
    "X = np.loadtxt(\"./data/IMG/img.txt\", dtype=int)\n",
    "X.shape"
   ]
  },
  {
   "cell_type": "code",
   "execution_count": 13,
   "metadata": {},
   "outputs": [
    {
     "data": {
      "text/plain": [
       "(200, 200, 4)"
      ]
     },
     "execution_count": 13,
     "metadata": {},
     "output_type": "execute_result"
    }
   ],
   "source": [
    "# Redimensionar de (1) a (200x200x4)\n",
    "X = X.reshape(200, 200, 4)\n",
    "X.shape"
   ]
  },
  {
   "cell_type": "markdown",
   "metadata": {},
   "source": [
    "Ya que la imagen cargada tiene fondo transparente y puede haber problemas al pasarla por el transformador, se cambia a un fondo blanco:"
   ]
  },
  {
   "cell_type": "code",
   "execution_count": 16,
   "metadata": {},
   "outputs": [],
   "source": [
    "# Cambiar fonda a blanco\n",
    "X[X[:,:, 3] == 0] = [255,255,255,255]\n",
    "# Comvertir array a formato PILImage para un mejor manejo en el transformador\n",
    "X = Image.fromarray(X.astype(np.uint8))"
   ]
  },
  {
   "cell_type": "markdown",
   "metadata": {},
   "source": [
    "En este punto ya se a transformado el arreglo de 1 dimension a una imagen de 200x200 pixeles y 4 canales, pero si se intentara pasar al modelo marcaria una excepcion ya que la imagen no es de las caracteristicas con las que se entreno la red neuronal del modelo (4, 28, 28) "
   ]
  },
  {
   "cell_type": "code",
   "execution_count": 17,
   "metadata": {},
   "outputs": [
    {
     "data": {
      "image/png": "[encoded data removed]",
      "text/plain": [
       "<PIL.Image.Image image mode=RGBA size=200x200>"
      ]
     },
     "execution_count": 17,
     "metadata": {},
     "output_type": "execute_result"
    }
   ],
   "source": [
    "X"
   ]
  },
  {
   "cell_type": "markdown",
   "metadata": {},
   "source": [
    "Aplicacion del transformador a la imagen:"
   ]
  },
  {
   "cell_type": "code",
   "execution_count": 18,
   "metadata": {},
   "outputs": [
    {
     "data": {
      "text/plain": [
       "torch.Size([1, 28, 28])"
      ]
     },
     "execution_count": 18,
     "metadata": {},
     "output_type": "execute_result"
    }
   ],
   "source": [
    "X = transform_(X)\n",
    "X.shape"
   ]
  },
  {
   "cell_type": "markdown",
   "metadata": {},
   "source": [
    "Vizualizacion de la imagen ya estandarizada lista para ser ingresada al modelo:"
   ]
  },
  {
   "cell_type": "code",
   "execution_count": 19,
   "metadata": {},
   "outputs": [
    {
     "data": {
      "image/png": "[encoded data removed]",
      "text/plain": [
       "<Figure size 640x480 with 1 Axes>"
      ]
     },
     "metadata": {},
     "output_type": "display_data"
    }
   ],
   "source": [
    "plt.imshow(np.transpose(X.numpy(), (1, 2, 0)))\n",
    "plt.show()"
   ]
  },
  {
   "cell_type": "markdown",
   "metadata": {},
   "source": [
    "Tambien se puede cargar directamente una imagen"
   ]
  },
  {
   "cell_type": "code",
   "execution_count": 37,
   "metadata": {},
   "outputs": [
    {
     "data": {
      "image/png": "[encoded data removed]",
      "text/plain": [
       "<PIL.PngImagePlugin.PngImageFile image mode=RGBA size=201x200>"
      ]
     },
     "execution_count": 37,
     "metadata": {},
     "output_type": "execute_result"
    }
   ],
   "source": [
    "img = Image.open(\"./data/IMG/Three.png\")\n",
    "img"
   ]
  },
  {
   "cell_type": "markdown",
   "metadata": {},
   "source": [
    "Y Realizar la transformacion directamente, no es necesario hacer los pasos que se realizaron con el arreglo"
   ]
  },
  {
   "cell_type": "code",
   "execution_count": 38,
   "metadata": {},
   "outputs": [
    {
     "data": {
      "text/plain": [
       "torch.Size([1, 28, 28])"
      ]
     },
     "execution_count": 38,
     "metadata": {},
     "output_type": "execute_result"
    }
   ],
   "source": [
    "img = transform_(img)\n",
    "img.shape"
   ]
  },
  {
   "cell_type": "code",
   "execution_count": 48,
   "metadata": {},
   "outputs": [
    {
     "data": {
      "image/png": "[encoded data removed]",
      "text/plain": [
       "<Figure size 640x480 with 1 Axes>"
      ]
     },
     "metadata": {},
     "output_type": "display_data"
    }
   ],
   "source": [
    "plt.imshow(np.transpose(img.numpy(), (1, 2, 0)))\n",
    "plt.show()"
   ]
  },
  {
   "cell_type": "markdown",
   "metadata": {},
   "source": [
    "#### Creacion de la clase del modelo"
   ]
  },
  {
   "cell_type": "markdown",
   "metadata": {},
   "source": [
    "Creamos un modelo de una Red neuronal convolucional (CNN)"
   ]
  },
  {
   "cell_type": "code",
   "execution_count": 20,
   "metadata": {},
   "outputs": [],
   "source": [
    "# Creacion de la clase que hereda de la clase Module de pytorch, Clase base para todos los módulos de red neuronales\n",
    "class CNNModel(nn.Module):\n",
    "    # Definicion del constructor de la clase\n",
    "    def __init__(self):\n",
    "        # Inicializacion del constructor de la clase padre (Module)\n",
    "        super().__init__()\n",
    "        # Instacia de la primera capa convolucional\n",
    "        # Recibe una imegen, regrea 6 filtros, el tamano\n",
    "        # del kernel de 3x3 y con paso 1\n",
    "        self.conv1 = nn.Conv2d(1, 6, 3, 1)\n",
    "        # Instancia de la segunda capa  convolucional\n",
    "        # Recibe 6 filtros, regresa 16 filtros, el tamano\n",
    "        # del kernel es de 3x3 con paso 1\n",
    "        self.conv2 = nn.Conv2d(6, 16, 3, 1)\n",
    "        \n",
    "        # Capas de red neuronal normal\n",
    "        # Capa de entrada con 120 neuronas\n",
    "        self.fc1 = nn.Linear(5*5*16, 120)\n",
    "        # Capa que conecta la capa anterior con 84 neuronas\n",
    "        self.fc2 = nn.Linear(120, 84)\n",
    "        # Capa de salida que conecta la capa anterior con\n",
    "        # 10 neuronas que representan las 10 categorias de\n",
    "        # los datos\n",
    "        self.fc3 = nn.Linear(84, 10)\n",
    "\n",
    "    # En esta funcion se especifica como van a pasar los  datos\n",
    "    # atravez de la CNN \n",
    "    def forward(self, X):\n",
    "        X = F.relu(self.conv1(X))\n",
    "        X = F.max_pool2d(X, 2, 2) \n",
    "\n",
    "        X = F.relu(self.conv2(X))\n",
    "        X = F.max_pool2d(X, 2, 2)  \n",
    "\n",
    "        X = X.view(-1, 16*5*5)\n",
    "\n",
    "        X = F.relu(self.fc1(X))\n",
    "        X = F.relu(self.fc2(X))\n",
    "        X = self.fc3(X)\n",
    "        return F.log_softmax(X, dim=1)"
   ]
  },
  {
   "cell_type": "markdown",
   "metadata": {},
   "source": [
    "Una vez definido el modelo, se instancia no sin antes crear una semilla de aletoriedad para que no varien los datos si se quiere replicar"
   ]
  },
  {
   "cell_type": "code",
   "execution_count": 21,
   "metadata": {},
   "outputs": [
    {
     "data": {
      "text/plain": [
       "CNNModel(\n",
       "  (conv1): Conv2d(1, 6, kernel_size=(3, 3), stride=(1, 1))\n",
       "  (conv2): Conv2d(6, 16, kernel_size=(3, 3), stride=(1, 1))\n",
       "  (fc1): Linear(in_features=400, out_features=120, bias=True)\n",
       "  (fc2): Linear(in_features=120, out_features=84, bias=True)\n",
       "  (fc3): Linear(in_features=84, out_features=10, bias=True)\n",
       ")"
      ]
     },
     "execution_count": 21,
     "metadata": {},
     "output_type": "execute_result"
    }
   ],
   "source": [
    "# Creando semilla\n",
    "torch.manual_seed(41)\n",
    "# Instacia del modelo\n",
    "model = CNNModel()\n",
    "model"
   ]
  },
  {
   "cell_type": "markdown",
   "metadata": {},
   "source": [
    "#### Entrenamiento del modelo"
   ]
  },
  {
   "cell_type": "markdown",
   "metadata": {},
   "source": [
    "Configuracion de la funcion de perdida y el optimzador"
   ]
  },
  {
   "cell_type": "code",
   "execution_count": 22,
   "metadata": {},
   "outputs": [],
   "source": [
    "# Creacion de la funcion de perdida\n",
    "criterion = nn.CrossEntropyLoss()\n",
    "# Creacion del optimizador\n",
    "optimizer = torch.optim.Adam(model.parameters(), lr=0.001)"
   ]
  },
  {
   "cell_type": "markdown",
   "metadata": {},
   "source": [
    "Entrenamiento del modelo "
   ]
  },
  {
   "cell_type": "code",
   "execution_count": 29,
   "metadata": {},
   "outputs": [
    {
     "name": "stdout",
     "output_type": "stream",
     "text": [
      "CPU times: user 3 µs, sys: 0 ns, total: 3 µs\n",
      "Wall time: 8.11 µs\n",
      "Epoch: 0 Batch: 600 Loss: 0.17990995943546295\n",
      "Epoch: 0 Batch: 1200 Loss: 0.2365473210811615\n",
      "Epoch: 0 Batch: 1800 Loss: 0.017028750851750374\n",
      "Epoch: 0 Batch: 2400 Loss: 0.0963820293545723\n",
      "Epoch: 0 Batch: 3000 Loss: 0.07535302639007568\n",
      "Epoch: 0 Batch: 3600 Loss: 0.01270303875207901\n",
      "Epoch: 0 Batch: 4200 Loss: 0.01720208115875721\n",
      "Epoch: 0 Batch: 4800 Loss: 0.04618168622255325\n",
      "Epoch: 0 Batch: 5400 Loss: 0.039895858615636826\n",
      "Epoch: 0 Batch: 6000 Loss: 0.005244140513241291\n",
      "Epoch: 1 Batch: 600 Loss: 0.012408566661179066\n",
      "Epoch: 1 Batch: 1200 Loss: 0.017605304718017578\n",
      "Epoch: 1 Batch: 1800 Loss: 0.056576281785964966\n",
      "Epoch: 1 Batch: 2400 Loss: 0.1947897970676422\n",
      "Epoch: 1 Batch: 3000 Loss: 0.0024670411366969347\n",
      "Epoch: 1 Batch: 3600 Loss: 0.055994220077991486\n",
      "Epoch: 1 Batch: 4200 Loss: 0.0019240766996517777\n",
      "Epoch: 1 Batch: 4800 Loss: 0.0003076336288359016\n",
      "Epoch: 1 Batch: 5400 Loss: 0.0005665621138177812\n",
      "Epoch: 1 Batch: 6000 Loss: 0.0026883792597800493\n",
      "Epoch: 2 Batch: 600 Loss: 0.007473064120858908\n",
      "Epoch: 2 Batch: 1200 Loss: 0.025867614895105362\n",
      "Epoch: 2 Batch: 1800 Loss: 0.3837607502937317\n",
      "Epoch: 2 Batch: 2400 Loss: 0.0002332688745809719\n",
      "Epoch: 2 Batch: 3000 Loss: 0.0011008939472958446\n",
      "Epoch: 2 Batch: 3600 Loss: 9.391220373800024e-05\n",
      "Epoch: 2 Batch: 4200 Loss: 0.002434112597256899\n",
      "Epoch: 2 Batch: 4800 Loss: 0.004496328998357058\n",
      "Epoch: 2 Batch: 5400 Loss: 0.06571892648935318\n",
      "Epoch: 2 Batch: 6000 Loss: 0.0005407877033576369\n",
      "Epoch: 3 Batch: 600 Loss: 0.00037373555824160576\n",
      "Epoch: 3 Batch: 1200 Loss: 0.0074395956471562386\n",
      "Epoch: 3 Batch: 1800 Loss: 0.011264856904745102\n",
      "Epoch: 3 Batch: 2400 Loss: 0.030047103762626648\n",
      "Epoch: 3 Batch: 3000 Loss: 0.0010156468488276005\n",
      "Epoch: 3 Batch: 3600 Loss: 0.008975441567599773\n",
      "Epoch: 3 Batch: 4200 Loss: 0.007376453373581171\n",
      "Epoch: 3 Batch: 4800 Loss: 0.00031070184195414186\n",
      "Epoch: 3 Batch: 5400 Loss: 0.00030712896841578186\n",
      "Epoch: 3 Batch: 6000 Loss: 0.03541705012321472\n",
      "Epoch: 4 Batch: 600 Loss: 0.0007796585559844971\n",
      "Epoch: 4 Batch: 1200 Loss: 2.6617906769388355e-05\n",
      "Epoch: 4 Batch: 1800 Loss: 0.00014602483133785427\n",
      "Epoch: 4 Batch: 2400 Loss: 0.0001444084628019482\n",
      "Epoch: 4 Batch: 3000 Loss: 0.0016870640683919191\n",
      "Epoch: 4 Batch: 3600 Loss: 0.010236072354018688\n",
      "Epoch: 4 Batch: 4200 Loss: 0.1451331228017807\n",
      "Epoch: 4 Batch: 4800 Loss: 0.008117066696286201\n",
      "Epoch: 4 Batch: 5400 Loss: 0.00039601203752681613\n",
      "Epoch: 4 Batch: 6000 Loss: 0.0044455742463469505\n"
     ]
    }
   ],
   "source": [
    "%time\n",
    "\n",
    "# Creacion de la variables:\n",
    "# Se define cuantos epochs se van a realizar\n",
    "# Un epoch es toda una interacion de todos los\n",
    "# datos atravez de la red neuronal\n",
    "epochs = 5\n",
    "train_losses = []\n",
    "test_losses = []\n",
    "train_correct = []\n",
    "test_correct = []\n",
    "\n",
    "# Bucle que se ejecuta las veces indicadas (epochs)\n",
    "for i in range(epochs):\n",
    "    trn_corr = tst_corr = 0\n",
    "    # Se itera el conjunto de datos de entrenamiento,\n",
    "    # se obtiene:\n",
    "    # X_train = lote de imagenes\n",
    "    # y_train = lote de etiquetas de las 10 imagenes\n",
    "    for b, (X_train, y_train) in enumerate(train_loader):\n",
    "        b+=1\n",
    "       # Se ingresa el lote de imagenes al modelo\n",
    "       # Arroja la prediccion y_pred \n",
    "        y_pred = model(X_train)\n",
    "        # se calcula la perdida con la funcion\n",
    "        # comparando la prediccion contra los datos reales\n",
    "        loss  = criterion(y_pred, y_train)\n",
    "        # Se obtiene el valor mas grande, este es\n",
    "        # el que cree la red que es mas acertado \n",
    "        predicted = torch.max(y_pred.data, 1)[1]\n",
    "        # Se verifica que sean correctas la predicciones\n",
    "        # contra los valores reales\n",
    "        batch_corr = (predicted == y_train).sum()\n",
    "        trn_corr += batch_corr\n",
    "\n",
    "        # Back propagation\n",
    "        optimizer.zero_grad()\n",
    "        loss.backward()\n",
    "        optimizer.step()\n",
    "        # Depurar los datos del entrenamiento por consola\n",
    "        if b%600 == 0:\n",
    "            print(f\"Epoch: {i} Batch: {b} Loss: {loss.item()}\")\n",
    "    \n",
    "    train_losses.append(loss)\n",
    "    train_correct.append(trn_corr)\n"
   ]
  },
  {
   "cell_type": "markdown",
   "metadata": {},
   "source": [
    "#### Prueba del modelo con los datos de entrenamiento"
   ]
  },
  {
   "cell_type": "markdown",
   "metadata": {},
   "source": [
    "Prueba con un solo lote "
   ]
  },
  {
   "cell_type": "markdown",
   "metadata": {},
   "source": [
    "Se muestra por pantalla las imagenes, de un solo lote"
   ]
  },
  {
   "cell_type": "code",
   "execution_count": 27,
   "metadata": {},
   "outputs": [
    {
     "data": {
      "image/png": "[encoded data removed]",
      "text/plain": [
       "<Figure size 640x480 with 1 Axes>"
      ]
     },
     "metadata": {},
     "output_type": "display_data"
    }
   ],
   "source": [
    "# Se itera el conjunto de prueba\n",
    "dataiter = iter(test_loader)\n",
    "# Se obtiene las imagenes y etiquetas\n",
    "imgs, labels = next(dataiter)\n",
    "# Se muestran las imagenes graficamente\n",
    "plt.imshow(np.transpose(make_grid(imgs).numpy(), (1, 2, 0)))\n",
    "plt.show()"
   ]
  },
  {
   "cell_type": "markdown",
   "metadata": {},
   "source": [
    "Etiquetas de las imagenes"
   ]
  },
  {
   "cell_type": "code",
   "execution_count": 28,
   "metadata": {},
   "outputs": [
    {
     "name": "stdout",
     "output_type": "stream",
     "text": [
      "tensor([8, 4, 7, 1, 9, 1, 4, 2, 3, 6])\n"
     ]
    }
   ],
   "source": [
    "print(labels)"
   ]
  },
  {
   "cell_type": "markdown",
   "metadata": {},
   "source": [
    "Se ingresan las imagenes al modelo"
   ]
  },
  {
   "cell_type": "code",
   "execution_count": 49,
   "metadata": {},
   "outputs": [],
   "source": [
    "outputs = model(imgs)"
   ]
  },
  {
   "cell_type": "markdown",
   "metadata": {},
   "source": [
    "Puntuaciones de cada caterogoria"
   ]
  },
  {
   "cell_type": "code",
   "execution_count": 56,
   "metadata": {},
   "outputs": [
    {
     "data": {
      "text/plain": [
       "tensor([[-9.5369e+00, -1.8017e+01, -1.9068e+01, -1.1731e+01, -1.2774e+01,\n",
       "         -1.3291e-03, -1.1593e+01, -7.3267e+00, -8.3569e+00, -7.9767e+00],\n",
       "        [-1.1831e+01, -1.6621e+01, -1.6933e+01, -2.0323e+01, -1.1809e+01,\n",
       "         -8.3936e+00, -2.4185e-04, -2.1780e+01, -1.4289e+01, -1.7005e+01],\n",
       "        [-2.3443e+01, -1.7024e+01, -1.3549e+01, -1.9669e-05, -2.0952e+01,\n",
       "         -1.0995e+01, -1.9592e+01, -1.8252e+01, -1.3463e+01, -1.6808e+01],\n",
       "        [-2.6095e+01, -2.4720e+01, -2.6713e+01, -3.5567e+01, -1.8520e+01,\n",
       "         -1.7440e+01,  0.0000e+00, -3.6313e+01, -1.7701e+01, -3.6159e+01],\n",
       "        [-1.5328e+01, -1.6136e+01, -1.4221e+01, -2.2071e+01, -1.2258e+01,\n",
       "         -1.3752e+01, -6.7949e-06, -2.5960e+01, -1.7496e+01, -2.5281e+01],\n",
       "        [-2.1141e+01, -2.0995e+01, -1.6499e+01, -1.6153e+01, -1.1309e+01,\n",
       "         -1.8750e+01, -2.9262e+01, -9.7571e+00, -1.7486e+01, -7.0450e-05],\n",
       "        [-1.5961e-04, -1.4591e+01, -9.2510e+00, -1.3390e+01, -1.3880e+01,\n",
       "         -1.5010e+01, -1.3523e+01, -1.1306e+01, -1.0281e+01, -1.1302e+01],\n",
       "        [-3.6088e+01, -1.9580e+01, -1.9529e+01, -1.2755e-05, -3.0238e+01,\n",
       "         -1.1273e+01, -2.6812e+01, -2.1691e+01, -2.0682e+01, -2.0993e+01],\n",
       "        [-1.5659e+01, -2.1057e+01, -2.3885e+01, -1.2721e+01, -2.0505e+01,\n",
       "         -5.9126e-05, -1.7887e+01, -2.0723e+01, -1.6361e+01, -9.7921e+00],\n",
       "        [-2.0087e+01, -2.2665e+01, -3.0715e+01, -1.4570e+01, -2.7002e+01,\n",
       "         -8.3446e-07, -1.5804e+01, -2.9633e+01, -1.6505e+01, -1.5636e+01]])"
      ]
     },
     "execution_count": 56,
     "metadata": {},
     "output_type": "execute_result"
    }
   ],
   "source": [
    "outputs.data"
   ]
  },
  {
   "cell_type": "markdown",
   "metadata": {},
   "source": [
    "Se obtiene los valores mas altos, estos son por los que mas se inclino la red neuronal"
   ]
  },
  {
   "cell_type": "code",
   "execution_count": 31,
   "metadata": {},
   "outputs": [],
   "source": [
    "predicted = torch.max(outputs, 1)[1]"
   ]
  },
  {
   "cell_type": "markdown",
   "metadata": {},
   "source": [
    "Predicciones"
   ]
  },
  {
   "cell_type": "code",
   "execution_count": 32,
   "metadata": {},
   "outputs": [
    {
     "data": {
      "text/plain": [
       "tensor([8, 4, 7, 1, 9, 1, 4, 2, 3, 6])"
      ]
     },
     "execution_count": 32,
     "metadata": {},
     "output_type": "execute_result"
    }
   ],
   "source": [
    "predicted"
   ]
  },
  {
   "cell_type": "markdown",
   "metadata": {},
   "source": [
    "Prueba del modelo con todo los datos de entrenamiento"
   ]
  },
  {
   "cell_type": "code",
   "execution_count": 33,
   "metadata": {},
   "outputs": [
    {
     "name": "stdout",
     "output_type": "stream",
     "text": [
      "Presicion de la red en las 10,000 imagenes de prueba: 98 %\n"
     ]
    }
   ],
   "source": [
    "#Definicion de variables\n",
    "correct = total = 0\n",
    "# Se desactiva la propagacion hacia atras\n",
    "with torch.no_grad():\n",
    "    # se itera el conjunto de entrenamiento\n",
    "    for data in test_loader:\n",
    "        # Se obtiene las imagenes y las etiquetas\n",
    "        imgs, labels = data\n",
    "        # Se ingresan las imagenes al modelo\n",
    "        outputs = model(imgs)\n",
    "        # Se obtiene las prediccion de la red neuronal\n",
    "        predicted = torch.max(outputs.data, 1)[1]\n",
    "        total += labels.size(0)\n",
    "        # Se cuentan las imagenes hacertadas\n",
    "        correct += (predicted == labels).sum().item()\n",
    "\n",
    "print(f'Presicion de la red en las 10,000 imagenes de prueba: {100 * correct // total} %')"
   ]
  },
  {
   "cell_type": "markdown",
   "metadata": {},
   "source": [
    "Prueba del modelo con las imagenes que no pertenecen al dataset"
   ]
  },
  {
   "cell_type": "code",
   "execution_count": 46,
   "metadata": {},
   "outputs": [
    {
     "data": {
      "text/plain": [
       "tensor([2])"
      ]
     },
     "execution_count": 46,
     "metadata": {},
     "output_type": "execute_result"
    }
   ],
   "source": [
    "# Imagen del arreglo que contiene el numero 2\n",
    "with torch.no_grad():\n",
    "    y = model(X)\n",
    "torch.max(y.data, 1)[1]"
   ]
  },
  {
   "cell_type": "code",
   "execution_count": 47,
   "metadata": {},
   "outputs": [
    {
     "data": {
      "text/plain": [
       "tensor([3])"
      ]
     },
     "execution_count": 47,
     "metadata": {},
     "output_type": "execute_result"
    }
   ],
   "source": [
    "# Imagen png que contiene el numero 3\n",
    "with torch.no_grad():\n",
    "    y = model(img)\n",
    "torch.max(y.data, 1)[1]"
   ]
  },
  {
   "cell_type": "markdown",
   "metadata": {},
   "source": [
    "Se guardan los parametros del modelo para luego ser cargados posteriormente cuando se vaya a utilizar mas adelante y asi no tener que entrenar nuevamente el modelo"
   ]
  },
  {
   "cell_type": "code",
   "execution_count": null,
   "metadata": {},
   "outputs": [],
   "source": [
    "# Guardando modelo\n",
    "torch.save(model.state_dict(), \"CNNModel.pth\")"
   ]
  },
  {
   "cell_type": "code",
   "execution_count": 57,
   "metadata": {},
   "outputs": [
    {
     "data": {
      "text/plain": [
       "<All keys matched successfully>"
      ]
     },
     "execution_count": 57,
     "metadata": {},
     "output_type": "execute_result"
    }
   ],
   "source": [
    "# Cargando parametros al modelo\n",
    "model = CNNModel()\n",
    "model.load_state_dict(torch.load(\"CNNModel.pth\"))"
   ]
  }
 ],
 "metadata": {
  "kernelspec": {
   "display_name": "ProjectAI",
   "language": "python",
   "name": "python3"
  },
  "language_info": {
   "codemirror_mode": {
    "name": "ipython",
    "version": 3
   },
   "file_extension": ".py",
   "mimetype": "text/x-python",
   "name": "python",
   "nbconvert_exporter": "python",
   "pygments_lexer": "ipython3",
   "version": "3.11.0"
  },
  "orig_nbformat": 4
 },
 "nbformat": 4,
 "nbformat_minor": 2
}
